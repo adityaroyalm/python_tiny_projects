{
 "cells": [
  {
   "cell_type": "code",
   "execution_count": null,
   "metadata": {
    "collapsed": true
   },
   "outputs": [],
   "source": [
    "# Import packages in python\n",
    "import numpy as np\n",
    "%matplotlib inline\n",
    "import matplotlib.pyplot as plt\n",
    "from skimage import data"
   ]
  },
  {
   "cell_type": "code",
   "execution_count": null,
   "metadata": {
    "collapsed": false
   },
   "outputs": [],
   "source": [
    "#create a 1d array\n",
    "\n",
    "array_1d=np.array([1,2,3,4,1])\n",
    "\n",
    "print array_1d\n",
    "\n",
    "#create a 2D numpy array\n",
    "\n",
    "array_2d=np.array([[1,22,32],[42,54,65]])\n",
    "\n",
    "coins=data.coins()\n",
    "\n",
    "\n",
    "\n",
    "print array_2d\n",
    "\n",
    "\n",
    "cat=data.chelsea()\n",
    "\n",
    "plt.imshow(coins,cmap='gray')\n",
    "\n",
    "\n",
    "print cat\n",
    "\n",
    "plt.imshow(cat,interpolation='nearest')\n",
    "\n"
   ]
  },
  {
   "cell_type": "code",
   "execution_count": 4,
   "metadata": {
    "collapsed": false
   },
   "outputs": [
    {
     "name": "stdout",
     "output_type": "stream",
     "text": [
      "1\n",
      "2\n",
      "2\n",
      "3\n",
      "(5L,)\n",
      "(2L, 3L)\n",
      "(303L, 384L)\n",
      "(300L, 451L, 3L)\n"
     ]
    }
   ],
   "source": [
    "#printing dimensions\n",
    "\n",
    "print array_1d.ndim\n",
    "\n",
    "print array_2d.ndim\n",
    "\n",
    "print coins.ndim\n",
    "\n",
    " \n",
    "print cat.ndim\n",
    "\n",
    "#printing  shape\n",
    "\n",
    "print array_1d.shape\n",
    "\n",
    "print array_2d.shape\n",
    "\n",
    "print coins.shape\n",
    "\n",
    "print cat.shape\n"
   ]
  },
  {
   "cell_type": "code",
   "execution_count": 5,
   "metadata": {
    "collapsed": false
   },
   "outputs": [],
   "source": [
    "#creating arrays with sequence"
   ]
  },
  {
   "cell_type": "code",
   "execution_count": 6,
   "metadata": {
    "collapsed": false
   },
   "outputs": [
    {
     "name": "stdout",
     "output_type": "stream",
     "text": [
      "[ 0.  0.  0.  0.  0.]\n",
      "[[ 0.  0.]\n",
      " [ 0.  0.]]\n"
     ]
    },
    {
     "ename": "NameError",
     "evalue": "name 'array_3d' is not defined",
     "output_type": "error",
     "traceback": [
      "\u001b[0;31m---------------------------------------------------------------------------\u001b[0m",
      "\u001b[0;31mNameError\u001b[0m                                 Traceback (most recent call last)",
      "\u001b[0;32m<ipython-input-6-344a6ae13124>\u001b[0m in \u001b[0;36m<module>\u001b[0;34m()\u001b[0m\n\u001b[1;32m     19\u001b[0m \u001b[1;33m\u001b[0m\u001b[0m\n\u001b[1;32m     20\u001b[0m \u001b[1;33m\u001b[0m\u001b[0m\n\u001b[0;32m---> 21\u001b[0;31m \u001b[0mplt\u001b[0m\u001b[1;33m.\u001b[0m\u001b[0mimshow\u001b[0m\u001b[1;33m(\u001b[0m\u001b[0marray_3d\u001b[0m\u001b[1;33m,\u001b[0m\u001b[0minterpolation\u001b[0m\u001b[1;33m=\u001b[0m\u001b[1;34m'nearest'\u001b[0m\u001b[1;33m)\u001b[0m\u001b[1;33m\u001b[0m\u001b[0m\n\u001b[0m",
      "\u001b[0;31mNameError\u001b[0m: name 'array_3d' is not defined"
     ]
    },
    {
     "data": {
      "image/png": "[encoded data removed]",
      "text/plain": [
       "<matplotlib.figure.Figure at 0xd57d630>"
      ]
     },
     "metadata": {},
     "output_type": "display_data"
    }
   ],
   "source": [
    "#using arange()\n",
    "array_1d=np.arange(1,8,2)\n",
    "\n",
    "array_2d=np.arange(1,7).reshape(2,3)\n",
    "\n",
    "plt.imshow(array_2d,cmap='gray')\n",
    "\n",
    "np.arange(1,13).reshape(2,3,2)\n",
    "\n",
    "#using np.zeros\n",
    "\n",
    "array_1d=np.zeros(5)\n",
    "\n",
    "print array_1d\n",
    "\n",
    "array_2d=np.zeros((2,2))\n",
    "\n",
    "print array_2d\n",
    "\n",
    "\n",
    "plt.imshow(array_3d,interpolation='nearest')\n"
   ]
  },
  {
   "cell_type": "code",
   "execution_count": null,
   "metadata": {
    "collapsed": false
   },
   "outputs": [],
   "source": [
    "# changing data types in array\n",
    "\n",
    "example=np.array([[1,2,3],[2,3,4]])\n",
    "\n",
    "example=example.astype(float)\n",
    "\n",
    "print example.dtype"
   ]
  },
  {
   "cell_type": "code",
   "execution_count": null,
   "metadata": {
    "collapsed": false
   },
   "outputs": [],
   "source": [
    "# indexing array \n",
    "\n",
    "obj =example[0]\n",
    "\n",
    "obj= example[0,0]\n",
    "\n",
    "obj=example[[0,1],[2,1]]\n",
    "\n",
    "\n",
    "#slicing array\n",
    "\n",
    "obj=example[0:,1:]\n",
    "\n",
    "obj=example[1,1:]\n",
    "\n",
    "obj=cat[10,:,:]\n",
    "\n",
    "cat[10,:,:]=0\n",
    "\n",
    "cat[:,10,:]=0\n",
    "\n",
    "cat=data.chelsea()\n",
    "\n",
    "cat[:,:,0]=0\n",
    "\n",
    "plt.imshow(cat)\n",
    "\n",
    "\n",
    "# boolean indexing \n",
    "obj = example[np.array([True,False],dtype=bool)]\n",
    "\n",
    "cat=data.chelsea()\n",
    "\n",
    "cat[cat<125]=0\n",
    "\n",
    "obj=example[example>1]\n",
    "\n",
    "plt.imshow(cat)\n",
    "\n",
    "obj=example[0][np.array([True,False,False],dtype=bool)]\n",
    "\n"
   ]
  },
  {
   "cell_type": "code",
   "execution_count": null,
   "metadata": {
    "collapsed": false
   },
   "outputs": [],
   "source": [
    "print obj"
   ]
  },
  {
   "cell_type": "code",
   "execution_count": null,
   "metadata": {
    "collapsed": false
   },
   "outputs": [],
   "source": [
    "#mathematical functions\n",
    "obj.sum(axis=1)\n",
    "\n",
    "np.add(obj,obj)\n",
    "\n",
    "np.subtract(obj,obj)\n",
    "\n",
    "np.subtract(obj,obj)\n",
    "\n",
    "obj.min(axis=0)\n",
    "\n",
    "obj.max(axis=1)\n",
    "\n",
    "obj.argmax(axis=1)\n",
    "\n",
    "np.sqrt(obj)\n"
   ]
  },
  {
   "cell_type": "code",
   "execution_count": null,
   "metadata": {
    "collapsed": false
   },
   "outputs": [],
   "source": [
    "#other functions\n",
    "obj=np.where(obj>1,0,9)\n",
    "obj=np.sort(obj)\n",
    "obj=np.unique(obj)\n",
    "obj\n",
    "\n"
   ]
  },
  {
   "cell_type": "code",
   "execution_count": null,
   "metadata": {
    "collapsed": true
   },
   "outputs": [],
   "source": []
  }
 ],
 "metadata": {
  "anaconda-cloud": {},
  "kernelspec": {
   "display_name": "Python [conda env:py27]",
   "language": "python",
   "name": "conda-env-py27-py"
  },
  "language_info": {
   "codemirror_mode": {
    "name": "ipython",
    "version": 2
   },
   "file_extension": ".py",
   "mimetype": "text/x-python",
   "name": "python",
   "nbconvert_exporter": "python",
   "pygments_lexer": "ipython2",
   "version": "2.7.13"
  }
 },
 "nbformat": 4,
 "nbformat_minor": 1
}
