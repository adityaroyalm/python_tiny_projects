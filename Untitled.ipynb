{
 "cells": [
  {
   "cell_type": "code",
   "execution_count": null,
   "metadata": {
    "collapsed": true
   },
   "outputs": [],
   "source": []
  },
  {
   "cell_type": "code",
   "execution_count": null,
   "metadata": {
    "collapsed": true
   },
   "outputs": [],
   "source": []
  },
  {
   "cell_type": "code",
   "execution_count": null,
   "metadata": {
    "collapsed": true
   },
   "outputs": [],
   "source": []
  },
  {
   "cell_type": "code",
   "execution_count": null,
   "metadata": {
    "collapsed": true
   },
   "outputs": [],
   "source": [
    "# %load lonallstateclaim.py\n",
    "\"\"\"\n",
    "Created on Wed Mar 08 15:28:58 2017\n",
    "\n",
    "@author: "
   ]
  },
  {
   "cell_type": "code",
   "execution_count": 1,
   "metadata": {},
   "outputs": [
    {
     "ename": "SyntaxError",
     "evalue": "invalid syntax (<ipython-input-1-2c7ef0fc3951>, line 1)",
     "output_type": "error",
     "traceback": [
      "\u001b[1;36m  File \u001b[1;32m\"<ipython-input-1-2c7ef0fc3951>\"\u001b[1;36m, line \u001b[1;32m1\u001b[0m\n\u001b[1;33m    aditya royal\u001b[0m\n\u001b[1;37m               ^\u001b[0m\n\u001b[1;31mSyntaxError\u001b[0m\u001b[1;31m:\u001b[0m invalid syntax\n"
     ]
    }
   ],
   "source": [
    "aditya royal\n",
    "\"\"\"\n",
    "\n",
    "import pandas as pd"
   ]
  },
  {
   "cell_type": "code",
   "execution_count": 2,
   "metadata": {},
   "outputs": [
    {
     "ename": "SyntaxError",
     "evalue": "Missing parentheses in call to 'print'. Did you mean print(cols)? (<ipython-input-2-40c8b7ac6ad1>, line 14)",
     "output_type": "error",
     "traceback": [
      "\u001b[1;36m  File \u001b[1;32m\"<ipython-input-2-40c8b7ac6ad1>\"\u001b[1;36m, line \u001b[1;32m14\u001b[0m\n\u001b[1;33m    print cols\u001b[0m\n\u001b[1;37m             ^\u001b[0m\n\u001b[1;31mSyntaxError\u001b[0m\u001b[1;31m:\u001b[0m Missing parentheses in call to 'print'. Did you mean print(cols)?\n"
     ]
    }
   ],
   "source": [
    "dataset=pd.read_csv(\"D:/MLsoftaware_projects/allstate claim seveirity/train.csv\")\n",
    "dataset_test=pd.read_csv(\"D:/MLsoftaware_projects/allstate claim seveirity/test.csv\")\n",
    "ID=dataset_test['id']\n",
    "dataset_test.drop('id',axis=1,inplace=True)\n",
    "dataset_test.shape\n",
    "dataset=dataset.iloc[:,1:]\n",
    "print(dataset.describe())\n",
    "dataset.skew()\n",
    "import numpy\n",
    "import seaborn as sns\n",
    "import matplotlib.pyplot as plt\n",
    "dataa=dataset.iloc[:,116:]\n",
    "cols=dataa.columns\n",
    "print cols\n",
    "import matplotlib.pyplot as plt\n",
    "import seaborn as sns\n",
    "n_cols=2\n",
    "for i in range(7):\n",
    "    fig,ax=plt.subplots(nrows=1,ncols=2,figsize=(6,6))\n",
    "    for j in range(1):\n",
    "        sns.violinplot(y=cols[i*n_cols+j],data=dataa)\n",
    "plt.show()"
   ]
  },
  {
   "cell_type": "code",
   "execution_count": 3,
   "metadata": {},
   "outputs": [
    {
     "ename": "NameError",
     "evalue": "name 'dataset' is not defined",
     "output_type": "error",
     "traceback": [
      "\u001b[1;31m---------------------------------------------------------------------------\u001b[0m",
      "\u001b[1;31mNameError\u001b[0m                                 Traceback (most recent call last)",
      "\u001b[1;32m<ipython-input-3-d3212a156d58>\u001b[0m in \u001b[0;36m<module>\u001b[1;34m()\u001b[0m\n\u001b[0;32m      1\u001b[0m \u001b[1;33m\u001b[0m\u001b[0m\n\u001b[0;32m      2\u001b[0m \u001b[1;32mimport\u001b[0m \u001b[0mnumpy\u001b[0m \u001b[1;32mas\u001b[0m \u001b[0mnp\u001b[0m\u001b[1;33m\u001b[0m\u001b[0m\n\u001b[1;32m----> 3\u001b[1;33m \u001b[0mdataset\u001b[0m\u001b[1;33m[\u001b[0m\u001b[1;34m'loss'\u001b[0m\u001b[1;33m]\u001b[0m\u001b[1;33m=\u001b[0m\u001b[0mnp\u001b[0m\u001b[1;33m.\u001b[0m\u001b[0mlog1p\u001b[0m\u001b[1;33m(\u001b[0m\u001b[0mdataset\u001b[0m\u001b[1;33m[\u001b[0m\u001b[1;34m'loss'\u001b[0m\u001b[1;33m]\u001b[0m\u001b[1;33m)\u001b[0m\u001b[1;33m\u001b[0m\u001b[0m\n\u001b[0m\u001b[0;32m      4\u001b[0m \u001b[0msns\u001b[0m\u001b[1;33m.\u001b[0m\u001b[0mviolinplot\u001b[0m\u001b[1;33m(\u001b[0m\u001b[0mdata\u001b[0m\u001b[1;33m=\u001b[0m\u001b[0mdataset\u001b[0m\u001b[1;33m,\u001b[0m\u001b[0my\u001b[0m\u001b[1;33m=\u001b[0m\u001b[1;34m'loss'\u001b[0m\u001b[1;33m)\u001b[0m\u001b[1;33m\u001b[0m\u001b[0m\n\u001b[0;32m      5\u001b[0m \u001b[1;31m#data_corr=data.corr()\u001b[0m\u001b[1;33m\u001b[0m\u001b[1;33m\u001b[0m\u001b[0m\n",
      "\u001b[1;31mNameError\u001b[0m: name 'dataset' is not defined"
     ]
    }
   ],
   "source": [
    "\n",
    "import numpy as np\n",
    "dataset['loss']=np.log1p(dataset['loss'])\n",
    "sns.violinplot(data=dataset,y='loss')\n",
    "#data_corr=data.corr()\n",
    "x=29\n",
    "for i in range(x):\n",
    "    fig,ax=plt.subplots(figsize=(6,6),nrows=1,ncols=4)\n",
    "    for j in range(4):\n",
    "        sns.countplot(data=dataset,x=dataset.columns[i*4+j],ax=ax[j])\n",
    "labels=[]\n",
    "cols=dataset.columns  \n",
    "\n",
    "from sklearn.preprocessing import LabelEncoder\n",
    "from sklearn.preprocessing import OneHotEncoder"
   ]
  },
  {
   "cell_type": "code",
   "execution_count": null,
   "metadata": {},
   "outputs": [],
   "source": [
    "vals=np.zeros(dataset[:,116].shape)\n",
    "le=LabelEncoder()\n",
    "for i in range(116):\n",
    "    vals[:,i]=le.fit_transform(dataset.iloc[:,i].as_matrix())\n",
    "print np.unique(vals[:,131])\n",
    "O=OneHotEncoder()\n",
    "O.fit_transform(vals)\n",
    "    \n",
    "#encoded_cats=np.column_stack(cats)\n",
    "#import numpy as np\n",
    "#print(encoded_cats.shape)\n",
    "#r,c=dataset_encoded.shape()\n",
    "#for i in range(0,split):\n",
    "    \n",
    "    "
   ]
  },
  {
   "cell_type": "code",
   "execution_count": 4,
   "metadata": {},
   "outputs": [
    {
     "name": "stdout",
     "output_type": "stream",
     "text": [
      "7\n"
     ]
    }
   ],
   "source": [
    "print(7)"
   ]
  },
  {
   "cell_type": "code",
   "execution_count": null,
   "metadata": {
    "collapsed": true
   },
   "outputs": [],
   "source": []
  }
 ],
 "metadata": {
  "anaconda-cloud": {},
  "kernelspec": {
   "display_name": "Python 3",
   "language": "python",
   "name": "python3"
  },
  "language_info": {
   "codemirror_mode": {
    "name": "ipython",
    "version": 3
   },
   "file_extension": ".py",
   "mimetype": "text/x-python",
   "name": "python",
   "nbconvert_exporter": "python",
   "pygments_lexer": "ipython3",
   "version": "3.6.4"
  }
 },
 "nbformat": 4,
 "nbformat_minor": 1
}
