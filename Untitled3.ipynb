{
 "cells": [
  {
   "cell_type": "code",
   "execution_count": null,
   "metadata": {
    "collapsed": true
   },
   "outputs": [],
   "source": [
    "import pandas as pd\n"
   ]
  },
  {
   "cell_type": "code",
   "execution_count": null,
   "metadata": {
    "collapsed": true
   },
   "outputs": [],
   "source": [
    "# creating series\n",
    "obj=pd.Series([1,2,'3'],index=['a','b','c'])\n",
    "# by dict\n",
    "obj_dict={'a':1,'b':2,'c':'3'}\n",
    "pd.Series(obj_dict,index=['a','b','c','d'])"
   ]
  },
  {
   "cell_type": "code",
   "execution_count": null,
   "metadata": {
    "collapsed": true
   },
   "outputs": [],
   "source": [
    "# printing datastructure,data type\n",
    "print type(obj)\n",
    "obj.dtype"
   ]
  },
  {
   "cell_type": "code",
   "execution_count": null,
   "metadata": {
    "collapsed": true
   },
   "outputs": [],
   "source": [
    "#indexing and slicing series\n",
    "print obj['a']\n",
    "print obj[['a','b']]\n",
    "print obj[1:2:1]"
   ]
  },
  {
   "cell_type": "code",
   "execution_count": null,
   "metadata": {
    "collapsed": true
   },
   "outputs": [],
   "source": [
    "#changing dtype in series\n",
    "obj=obj.astype(str)\n",
    "print obj.dtype"
   ]
  },
  {
   "cell_type": "code",
   "execution_count": null,
   "metadata": {
    "collapsed": true
   },
   "outputs": [],
   "source": [
    "#changing elements in a series\n",
    "obj[2]='1'\n",
    "print obj\n",
    "#filtering scalar operations sorting merging max,min boolean indexing will preserve index-vlue links"
   ]
  },
  {
   "cell_type": "code",
   "execution_count": null,
   "metadata": {
    "collapsed": true
   },
   "outputs": [],
   "source": [
    "#filtering\n",
    "obj=obj[obj>2]"
   ]
  },
  {
   "cell_type": "code",
   "execution_count": null,
   "metadata": {
    "collapsed": true
   },
   "outputs": [],
   "source": [
    "#boolean indexing\n",
    "obj=obj[[True,False,True]]\n",
    "obj=pd.Series([1,2,3],index=['a','b','c'])"
   ]
  },
  {
   "cell_type": "code",
   "execution_count": null,
   "metadata": {
    "collapsed": true
   },
   "outputs": [],
   "source": [
    "#finding null ,na elements\n",
    "obj.isnull()\n",
    "obj.notnull()"
   ]
  },
  {
   "cell_type": "code",
   "execution_count": 1,
   "metadata": {
    "collapsed": false
   },
   "outputs": [
    {
     "name": "stdout",
     "output_type": "stream",
     "text": [
      "   symboling normalized-losses         make fuel-type aspiration num-of-doors  \\\n",
      "0          3                 ?  alfa-romero       gas        std          two   \n",
      "1          3                 ?  alfa-romero       gas        std          two   \n",
      "2          1                 ?  alfa-romero       gas        std          two   \n",
      "3          2               164         audi       gas        std         four   \n",
      "4          2               164         audi       gas        std         four   \n",
      "\n",
      "    body-style drive-wheels engine-location  wheel-base  ...    engine-size  \\\n",
      "0  convertible          rwd           front        88.6  ...            130   \n",
      "1  convertible          rwd           front        88.6  ...            130   \n",
      "2    hatchback          rwd           front        94.5  ...            152   \n",
      "3        sedan          fwd           front        99.8  ...            109   \n",
      "4        sedan          4wd           front        99.4  ...            136   \n",
      "\n",
      "   fuel-system  bore  stroke compression-ratio horsepower  peak-rpm city-mpg  \\\n",
      "0         mpfi  3.47    2.68               9.0        111      5000       21   \n",
      "1         mpfi  3.47    2.68               9.0        111      5000       21   \n",
      "2         mpfi  2.68    3.47               9.0        154      5000       19   \n",
      "3         mpfi  3.19     3.4              10.0        102      5500       24   \n",
      "4         mpfi  3.19     3.4               8.0        115      5500       18   \n",
      "\n",
      "  highway-mpg  price  \n",
      "0          27  13495  \n",
      "1          27  16500  \n",
      "2          26  16500  \n",
      "3          30  13950  \n",
      "4          22  17450  \n",
      "\n",
      "[5 rows x 26 columns]\n",
      "symboling            object\n",
      "normalized-losses    object\n",
      "make                 object\n",
      "fuel-type            object\n",
      "aspiration           object\n",
      "num-of-doors         object\n",
      "body-style           object\n",
      "drive-wheels         object\n",
      "engine-location      object\n",
      "wheel-base           object\n",
      "length               object\n",
      "width                object\n",
      "height               object\n",
      "curb-weight          object\n",
      "engine-type          object\n",
      "num-of-cylinders     object\n",
      "engine-size          object\n",
      "fuel-system          object\n",
      "bore                 object\n",
      "stroke               object\n",
      "compression-ratio    object\n",
      "horsepower           object\n",
      "peak-rpm             object\n",
      "city-mpg             object\n",
      "highway-mpg          object\n",
      "price                object\n",
      "dtype: object\n"
     ]
    }
   ],
   "source": [
    "\n",
    "#printing it's index\n",
    "print series_obj.index"
   ]
  },
  {
   "cell_type": "code",
   "execution_count": 2,
   "metadata": {
    "collapsed": false
   },
   "outputs": [
    {
     "name": "stdout",
     "output_type": "stream",
     "text": [
      "0        ?\n",
      "1        ?\n",
      "2        ?\n",
      "3      164\n",
      "4      164\n",
      "5        ?\n",
      "6      158\n",
      "7        ?\n",
      "8      158\n",
      "9        ?\n",
      "10     192\n",
      "11     192\n",
      "12     188\n",
      "13     188\n",
      "14       ?\n",
      "15       ?\n",
      "16       ?\n",
      "17       ?\n",
      "18     121\n",
      "19      98\n",
      "20      81\n",
      "21     118\n",
      "22     118\n",
      "23     118\n",
      "24     148\n",
      "25     148\n",
      "26     148\n",
      "27     148\n",
      "28     110\n",
      "29     145\n",
      "      ... \n",
      "175     65\n",
      "176     65\n",
      "177     65\n",
      "178    197\n",
      "179    197\n",
      "180     90\n",
      "181      ?\n",
      "182    122\n",
      "183    122\n",
      "184     94\n",
      "185     94\n",
      "186     94\n",
      "187     94\n",
      "188     94\n",
      "189      ?\n",
      "190    256\n",
      "191      ?\n",
      "192      ?\n",
      "193      ?\n",
      "194    103\n",
      "195     74\n",
      "196    103\n",
      "197     74\n",
      "198    103\n",
      "199     74\n",
      "200     95\n",
      "201     95\n",
      "202     95\n",
      "203     95\n",
      "204     95\n",
      "Name: normalized-losses, Length: 205, dtype: object\n"
     ]
    }
   ],
   "source": []
  },
  {
   "cell_type": "code",
   "execution_count": null,
   "metadata": {
    "collapsed": true
   },
   "outputs": [],
   "source": []
  }
 ],
 "metadata": {
  "anaconda-cloud": {},
  "kernelspec": {
   "display_name": "Python [conda env:py27]",
   "language": "python",
   "name": "conda-env-py27-py"
  },
  "language_info": {
   "codemirror_mode": {
    "name": "ipython",
    "version": 2
   },
   "file_extension": ".py",
   "mimetype": "text/x-python",
   "name": "python",
   "nbconvert_exporter": "python",
   "pygments_lexer": "ipython2",
   "version": "2.7.13"
  }
 },
 "nbformat": 4,
 "nbformat_minor": 1
}
